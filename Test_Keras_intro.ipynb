{
  "nbformat": 4,
  "nbformat_minor": 0,
  "metadata": {
    "colab": {
      "name": "Test_Keras_intro.ipynb",
      "provenance": [],
      "collapsed_sections": [
        "7FFx9MJl0i3k"
      ],
      "toc_visible": true,
      "authorship_tag": "ABX9TyPd48f65cQ4+MVRLEC81GgC",
      "include_colab_link": true
    },
    "kernelspec": {
      "name": "python3",
      "display_name": "Python 3"
    },
    "language_info": {
      "name": "python"
    }
  },
  "cells": [
    {
      "cell_type": "markdown",
      "metadata": {
        "id": "view-in-github",
        "colab_type": "text"
      },
      "source": [
        "<a href=\"https://colab.research.google.com/github/yardenzaki/yardenzaki-Keras-simple-CNN-classificatoin-color-plus-noise/blob/main/Test_Keras_intro.ipynb\" target=\"_parent\"><img src=\"https://colab.research.google.com/assets/colab-badge.svg\" alt=\"Open In Colab\"/></a>"
      ]
    },
    {
      "cell_type": "markdown",
      "source": [
        "# In this notebook i'll present some basic functionalities of Keras layers:\n",
        "\n",
        "\n",
        "*   CenterCrop\n",
        "*   Flatten\n",
        "\n",
        "i'll demonstrate that \"Model\" doesn't have to include Dense layers and activation function. i'll present a model that does the following pipeline:\n",
        "   64 images, random vals 10x10x3 -----center crop Layer---->\n",
        "\n",
        "   64 images, random vals 5x5x3 -----Flatten Layer----> \n",
        "\n",
        "   random vals 64 x 75.\n",
        "\n",
        "\n",
        "   Then, reshaping the model output (as nparray)  to the cropped image shape of:\n",
        "\n",
        "```\n",
        "# processed_data = processed_data.numpy().reshape(64,5,5,3)\n",
        "```\n",
        "\n",
        "\n",
        "\n",
        "\n",
        "\n"
      ],
      "metadata": {
        "id": "7FFx9MJl0i3k"
      }
    },
    {
      "cell_type": "code",
      "source": [
        "import matplotlib.pyplot as plt\n",
        "from tensorflow.keras.layers import Rescaling,CenterCrop,Flatten\n",
        "from tensorflow.keras import layers\n",
        "import keras"
      ],
      "metadata": {
        "id": "I8ipqBfHu8cv"
      },
      "execution_count": 1557,
      "outputs": []
    },
    {
      "cell_type": "code",
      "source": [
        "data = np.random.randint(0, 256, size=(64, 10, 10, 3)).astype(\"int\")"
      ],
      "metadata": {
        "id": "1wDooVX0u85f"
      },
      "execution_count": 1558,
      "outputs": []
    },
    {
      "cell_type": "code",
      "source": [
        "plt.figure(figsize=(10,10))\n",
        "plt.imshow(data[1])"
      ],
      "metadata": {
        "colab": {
          "base_uri": "https://localhost:8080/",
          "height": 0
        },
        "id": "pMLgHYZdvNNn",
        "outputId": "b91f5b53-0180-49f7-842c-ee4a10812995"
      },
      "execution_count": 1559,
      "outputs": [
        {
          "output_type": "execute_result",
          "data": {
            "text/plain": [
              "<matplotlib.image.AxesImage at 0x7fe152e41b90>"
            ]
          },
          "metadata": {},
          "execution_count": 1559
        },
        {
          "output_type": "display_data",
          "data": {
            "text/plain": [
              "<Figure size 720x720 with 1 Axes>"
            ],
            "image/png": "[encoded data removed]"
          },
          "metadata": {
            "needs_background": "light"
          }
        }
      ]
    },
    {
      "cell_type": "markdown",
      "source": [
        "# Building a model with Keras Functional API"
      ],
      "metadata": {
        "id": "HXOtb4N2wSkI"
      }
    },
    {
      "cell_type": "code",
      "source": [
        "\n",
        "inputs = keras.Input(shape=(None, None, 3)) # Let's say we expect our inputs to be RGB images of arbitrary size\n",
        "# Center-crop images to 5x5\n",
        "x = CenterCrop(height=5, width=5)(inputs)\n",
        "x = Flatten()(x)\n",
        "len= x.shape\n",
        "print(len)\n",
        "outputs = layers.Dense(75)(x)\n"
      ],
      "metadata": {
        "colab": {
          "base_uri": "https://localhost:8080/"
        },
        "id": "wURxG5QFwYx9",
        "outputId": "394cdd0f-b83c-45b9-edba-0cc2bcacfd8c"
      },
      "execution_count": 1560,
      "outputs": [
        {
          "output_type": "stream",
          "name": "stdout",
          "text": [
            "(None, 75)\n"
          ]
        }
      ]
    },
    {
      "cell_type": "code",
      "source": [
        "model = keras.Model(inputs=inputs, outputs=outputs)"
      ],
      "metadata": {
        "id": "GlrTqpsfxdV5"
      },
      "execution_count": 1561,
      "outputs": []
    },
    {
      "cell_type": "code",
      "source": [
        "processed_data = model(data)"
      ],
      "metadata": {
        "id": "xOMG6e4pxhfs"
      },
      "execution_count": 1562,
      "outputs": []
    },
    {
      "cell_type": "code",
      "source": [
        "print(processed_data.shape)\n",
        "processed_data = processed_data.numpy().reshape(64,5,5,3)"
      ],
      "metadata": {
        "colab": {
          "base_uri": "https://localhost:8080/"
        },
        "id": "2RD9w4VsxlP3",
        "outputId": "a628b16e-b8b2-476c-9f2f-4fecff4a1dbb"
      },
      "execution_count": 1563,
      "outputs": [
        {
          "output_type": "stream",
          "name": "stdout",
          "text": [
            "(64, 75)\n"
          ]
        }
      ]
    },
    {
      "cell_type": "code",
      "source": [
        "plt.figure(figsize=(10,10))\n",
        "plt.imshow(processed_data[1])"
      ],
      "metadata": {
        "colab": {
          "base_uri": "https://localhost:8080/",
          "height": 629
        },
        "id": "2ZX0MefNxpLG",
        "outputId": "3c9a3aab-64c1-4408-ba41-56e534b56a86"
      },
      "execution_count": 1564,
      "outputs": [
        {
          "output_type": "stream",
          "name": "stderr",
          "text": [
            "Clipping input data to the valid range for imshow with RGB data ([0..1] for floats or [0..255] for integers).\n"
          ]
        },
        {
          "output_type": "execute_result",
          "data": {
            "text/plain": [
              "<matplotlib.image.AxesImage at 0x7fe152c867d0>"
            ]
          },
          "metadata": {},
          "execution_count": 1564
        },
        {
          "output_type": "display_data",
          "data": {
            "text/plain": [
              "<Figure size 720x720 with 1 Axes>"
            ],
            "image/png": "[encoded data removed]"
          },
          "metadata": {
            "needs_background": "light"
          }
        }
      ]
    },
    {
      "cell_type": "markdown",
      "source": [
        "# Classification model\n",
        "\n",
        "> make dummy data\n",
        "\n",
        "> construct a classifier\n",
        "\n"
      ],
      "metadata": {
        "id": "w2lWN5G62bvk"
      }
    },
    {
      "cell_type": "code",
      "source": [
        "from sklearn.model_selection import train_test_split \n",
        "from tensorflow.keras.layers import Rescaling,Flatten \n",
        "import pandas as pd\n",
        "from sklearn.preprocessing import LabelEncoder"
      ],
      "metadata": {
        "id": "dSpW8GrU_wqB"
      },
      "execution_count": 1565,
      "outputs": []
    },
    {
      "cell_type": "code",
      "source": [
        "\n",
        "red =  np.zeros([100, 10,10, 3], dtype=np.uint8)\n",
        "red[:][:][:] = [255, 0, 0] \n",
        "red_noise = np.random.randint(0, 256, size=(100, 10, 10, 3)).astype(\"int\")\n",
        "red_noise[:][:][:][0] = 0\n",
        "red = red + red_noise\n",
        "red_lables = [\"Red\"]*100\n",
        "red_lables=np.array(red_lables).reshape(100,1)\n",
        "\n",
        "#print(red_lables)\n",
        "\n",
        "\n",
        "green =  np.zeros([100, 10,10, 3], dtype=np.uint8)\n",
        "green[:][:][:] = [0, 255, 0] \n",
        "green_noise = np.random.randint(0, 256, size=(100, 10, 10, 3)).astype(\"int\")\n",
        "green_noise[:][:][:][1] = 0\n",
        "green = green + green_noise\n",
        "green_lables =[\"Green\"]*100\n",
        "green_lables=np.array(green_lables).reshape(100,1)\n",
        "\n",
        "\n",
        "\n",
        "\n",
        "blue =  np.zeros([100, 10,10, 3], dtype=np.uint8)\n",
        "blue[:][:][:] = [0, 0, 255] \n",
        "blue_noise = np.random.randint(0, 256, size=(100, 10, 10, 3)).astype(\"int\")\n",
        "blue_noise[:][:][:][2] = 0\n",
        "blue = blue + blue_noise\n",
        "blue_lables = np.ones(100)\n",
        "blue_lables = [\"Blue\"]*100\n",
        "blue_lables=np.array(blue_lables).reshape(100,1)\n",
        "\n",
        "Lables_data = np.vstack((red_lables,green_lables))\n",
        "Lables_data = np.vstack((Lables_data,blue_lables))\n",
        "\n",
        "# Lables_data_enc = pd.DataFrame(red_lables, columns = ['Red'])\n",
        "# Lables_data_enc['Green'] = green_lables\n",
        "# Lables_data_enc['Blue'] = blue_lables\n",
        "\n",
        "def one_hot(array):\n",
        "    unique, inverse = np.unique(array, return_inverse=True)\n",
        "    onehot = np.eye(unique.shape[0])[inverse]\n",
        "    return onehot\n",
        "\n",
        "\n",
        "Lables_data_encoded = one_hot(Lables_data)\n",
        "print(\"Lables_data_encoded.shape\",Lables_data_encoded.shape)\n",
        "# encoder = LabelEncoder()\n",
        "# encoder.fit(Y)\n",
        "\n",
        "# print(enc.categories_)\n",
        "# print(Lables_data_enc.head())\n",
        "\n",
        "\n",
        "\n",
        "\n",
        "data = np.vstack((red,green))\n",
        "data = np.vstack((data,blue))\n",
        "\n",
        "\n",
        "data = Rescaling(scale=1.0 / data.max())(data).numpy()\n",
        "\n",
        "\n",
        "\n",
        "print(\"Lables_data\",Lables_data.shape)\n",
        "print(\"data\",data.shape)\n",
        "print(data.max())\n"
      ],
      "metadata": {
        "colab": {
          "base_uri": "https://localhost:8080/"
        },
        "id": "nyW7IS862tI3",
        "outputId": "21d89c4f-77e2-46f8-a8c1-a712a17538aa"
      },
      "execution_count": 1566,
      "outputs": [
        {
          "output_type": "stream",
          "name": "stdout",
          "text": [
            "Lables_data_encoded.shape (300, 3)\n",
            "Lables_data (300, 1)\n",
            "data (300, 10, 10, 3)\n",
            "1.0\n"
          ]
        }
      ]
    },
    {
      "cell_type": "code",
      "source": [
        "X_train, X_test, y_train, y_test = train_test_split(data, Lables_data_encoded, test_size=0.2,shuffle= True, random_state=42)"
      ],
      "metadata": {
        "id": "CAz0ZTBQAAIP"
      },
      "execution_count": 1567,
      "outputs": []
    },
    {
      "cell_type": "code",
      "source": [
        "print(X_train.shape)\n",
        "print(y_test.shape)"
      ],
      "metadata": {
        "colab": {
          "base_uri": "https://localhost:8080/"
        },
        "id": "rRwNUXk_FO3h",
        "outputId": "ab8ca081-3769-4f01-b834-c0a9202d66d7"
      },
      "execution_count": 1568,
      "outputs": [
        {
          "output_type": "stream",
          "name": "stdout",
          "text": [
            "(240, 10, 10, 3)\n",
            "(60, 3)\n"
          ]
        }
      ]
    },
    {
      "cell_type": "code",
      "source": [
        "\n",
        "train_data = np.random.randint(0, 256, size=(64, 10, 10, 3)).astype(\"int\")\n",
        "test_data = np.random.randint(0, 256, size=(64, 10, 10, 3)).astype(\"int\")"
      ],
      "metadata": {
        "id": "ctv9x9nk5Oky"
      },
      "execution_count": 1569,
      "outputs": []
    },
    {
      "cell_type": "code",
      "source": [
        "image_idx = 6\n",
        "plt.figure(figsize=(10,10))\n",
        "print(\"Image:\", y_train[image_idx])\n",
        "plt.imshow(X_train[image_idx])"
      ],
      "metadata": {
        "colab": {
          "base_uri": "https://localhost:8080/",
          "height": 629
        },
        "id": "jU9wZQhR3yVx",
        "outputId": "badabea7-ebb3-4115-ee6e-f1c4ed58fe7a"
      },
      "execution_count": 1570,
      "outputs": [
        {
          "output_type": "stream",
          "name": "stdout",
          "text": [
            "Image: [0. 0. 1.]\n"
          ]
        },
        {
          "output_type": "execute_result",
          "data": {
            "text/plain": [
              "<matplotlib.image.AxesImage at 0x7fe152c748d0>"
            ]
          },
          "metadata": {},
          "execution_count": 1570
        },
        {
          "output_type": "display_data",
          "data": {
            "text/plain": [
              "<Figure size 720x720 with 1 Axes>"
            ],
            "image/png": "[encoded data removed]"
          },
          "metadata": {
            "needs_background": "light"
          }
        }
      ]
    },
    {
      "cell_type": "code",
      "source": [
        "import pandas as pd\n",
        "c = pd.DataFrame(y_train)\n",
        "c.value_counts().plot(kind='pie', figsize=(10,5))"
      ],
      "metadata": {
        "colab": {
          "base_uri": "https://localhost:8080/",
          "height": 321
        },
        "id": "luqj8L_fHFBx",
        "outputId": "535e133a-0939-417e-eee2-6e0b9e9786ea"
      },
      "execution_count": 1571,
      "outputs": [
        {
          "output_type": "execute_result",
          "data": {
            "text/plain": [
              "<matplotlib.axes._subplots.AxesSubplot at 0x7fe152c01ad0>"
            ]
          },
          "metadata": {},
          "execution_count": 1571
        },
        {
          "output_type": "display_data",
          "data": {
            "text/plain": [
              "<Figure size 720x360 with 1 Axes>"
            ],
            "image/png": "[encoded data removed]"
          },
          "metadata": {}
        }
      ]
    },
    {
      "cell_type": "markdown",
      "source": [
        "## Preprocessing \n",
        "Rescaling and flattening\n",
        "\n"
      ],
      "metadata": {
        "id": "NSsrHRTSKFZz"
      }
    },
    {
      "cell_type": "code",
      "source": [
        "from tensorflow.keras.layers import Rescaling,Flatten \n",
        "print(X_train.max())\n",
        "print(X_train.min())\n",
        "X_train_preproc=X_train.copy()\n",
        "X_test_preproc=X_test.copy()\n",
        "y_train_preproc=y_train.copy()\n",
        "y_test_preproc=y_test.copy()\n",
        "\n",
        "print(X_train_preproc.shape)\n",
        "print(y_train_preproc.shape)"
      ],
      "metadata": {
        "colab": {
          "base_uri": "https://localhost:8080/"
        },
        "id": "FJC_yG_SKXfk",
        "outputId": "b029cecb-85e3-4867-ce2a-d6e2de25bcd0"
      },
      "execution_count": 1572,
      "outputs": [
        {
          "output_type": "stream",
          "name": "stdout",
          "text": [
            "1.0\n",
            "0.0\n",
            "(240, 10, 10, 3)\n",
            "(240, 3)\n"
          ]
        }
      ]
    },
    {
      "cell_type": "markdown",
      "source": [
        "## Constructing Classifier inc. pre-proc. layers \n",
        "\n",
        "\n",
        "\n",
        "Conv + max pooling layers\n",
        "\n"
      ],
      "metadata": {
        "id": "gI3wZLD3JNW1"
      }
    },
    {
      "cell_type": "code",
      "source": [
        "from tensorflow.keras import layers\n",
        "\n",
        "inputs = keras.Input(shape=(10,10,3))\n",
        "print(inputs.shape)\n",
        "#x = layers.Flatten()(inputs)\n",
        "# Apply some convolution and pooling layers\n",
        "x = layers.Conv2D(filters=32, kernel_size=(3, 3), activation=\"relu\")(inputs)\n",
        "x = layers.MaxPooling2D(pool_size=(3, 3))(x)\n",
        "\n",
        "# Apply global average pooling to get flat feature vectors\n",
        "x = layers.GlobalAveragePooling2D()(x)\n",
        "\n",
        "# Add a dense classifier on top\n",
        "num_classes = 3\n",
        "outputs = layers.Dense(num_classes, activation=\"softmax\")(x)\n"
      ],
      "metadata": {
        "colab": {
          "base_uri": "https://localhost:8080/"
        },
        "id": "goangh2aJyUy",
        "outputId": "5d876f84-9249-4374-ae46-54466e5c34a4"
      },
      "execution_count": 1573,
      "outputs": [
        {
          "output_type": "stream",
          "name": "stdout",
          "text": [
            "(None, 10, 10, 3)\n"
          ]
        }
      ]
    },
    {
      "cell_type": "code",
      "source": [
        "model = keras.Model(inputs=inputs, outputs=outputs)"
      ],
      "metadata": {
        "id": "0Um3lcVeOdQi"
      },
      "execution_count": 1574,
      "outputs": []
    },
    {
      "cell_type": "code",
      "source": [
        "from tensorflow.keras.utils import plot_model\n",
        "\n",
        "plot_model(model, to_file='model.png')"
      ],
      "metadata": {
        "colab": {
          "base_uri": "https://localhost:8080/",
          "height": 466
        },
        "id": "zF4jGMisPA1X",
        "outputId": "d5d0c680-9b94-4fe3-c766-dcad2f0e0987"
      },
      "execution_count": 1575,
      "outputs": [
        {
          "output_type": "execute_result",
          "data": {
            "text/plain": [
              "<IPython.core.display.Image object>"
            ],
            "image/png": "[encoded data removed]"
          },
          "metadata": {},
          "execution_count": 1575
        }
      ]
    },
    {
      "cell_type": "code",
      "source": [
        "model.summary()"
      ],
      "metadata": {
        "colab": {
          "base_uri": "https://localhost:8080/"
        },
        "id": "tcM0esdjPJSc",
        "outputId": "ba62a6a3-8731-4275-e99e-4aaf25eef7cb"
      },
      "execution_count": 1576,
      "outputs": [
        {
          "output_type": "stream",
          "name": "stdout",
          "text": [
            "Model: \"model_101\"\n",
            "_________________________________________________________________\n",
            " Layer (type)                Output Shape              Param #   \n",
            "=================================================================\n",
            " input_128 (InputLayer)      [(None, 10, 10, 3)]       0         \n",
            "                                                                 \n",
            " conv2d_37 (Conv2D)          (None, 8, 8, 32)          896       \n",
            "                                                                 \n",
            " max_pooling2d_25 (MaxPoolin  (None, 2, 2, 32)         0         \n",
            " g2D)                                                            \n",
            "                                                                 \n",
            " global_average_pooling2d_23  (None, 32)               0         \n",
            "  (GlobalAveragePooling2D)                                       \n",
            "                                                                 \n",
            " dense_111 (Dense)           (None, 3)                 99        \n",
            "                                                                 \n",
            "=================================================================\n",
            "Total params: 995\n",
            "Trainable params: 995\n",
            "Non-trainable params: 0\n",
            "_________________________________________________________________\n"
          ]
        }
      ]
    },
    {
      "cell_type": "markdown",
      "source": [
        "## model fit"
      ],
      "metadata": {
        "id": "F_4gihlePSmT"
      }
    },
    {
      "cell_type": "code",
      "source": [
        "# Load the Tensorboard notebook extension\n",
        "# And import datetime\n",
        "\n",
        "%load_ext tensorboard\n",
        "!rm -rf ./logs/\n",
        "# Create a callback\n",
        "\n",
        "tfboard_callback = tf.keras.callbacks.TensorBoard(log_dir=\"logs\")"
      ],
      "metadata": {
        "colab": {
          "base_uri": "https://localhost:8080/"
        },
        "id": "V7AwtUtJQOCW",
        "outputId": "c1f22e30-4e1e-46b7-8c52-fe96d4d4cb36"
      },
      "execution_count": 1577,
      "outputs": [
        {
          "output_type": "stream",
          "name": "stdout",
          "text": [
            "The tensorboard extension is already loaded. To reload it, use:\n",
            "  %reload_ext tensorboard\n"
          ]
        }
      ]
    },
    {
      "cell_type": "code",
      "source": [
        "model.compile(optimizer='adam', loss='categorical_crossentropy',metrics=['accuracy'])\n",
        "model.fit(X_train_preproc, y_train_preproc,batch_size=10, epochs=30,validation_split=0.2)"
      ],
      "metadata": {
        "colab": {
          "base_uri": "https://localhost:8080/"
        },
        "id": "MrPi6l1LPXVM",
        "outputId": "9d9bc352-3507-46ca-f50a-d0b9e0675b9d"
      },
      "execution_count": 1578,
      "outputs": [
        {
          "output_type": "stream",
          "name": "stdout",
          "text": [
            "Epoch 1/30\n",
            "20/20 [==============================] - 1s 12ms/step - loss: 0.9182 - accuracy: 0.8073 - val_loss: 0.8118 - val_accuracy: 1.0000\n",
            "Epoch 2/30\n",
            "20/20 [==============================] - 0s 4ms/step - loss: 0.7047 - accuracy: 1.0000 - val_loss: 0.6104 - val_accuracy: 1.0000\n",
            "Epoch 3/30\n",
            "20/20 [==============================] - 0s 4ms/step - loss: 0.5189 - accuracy: 1.0000 - val_loss: 0.4379 - val_accuracy: 1.0000\n",
            "Epoch 4/30\n",
            "20/20 [==============================] - 0s 5ms/step - loss: 0.3708 - accuracy: 1.0000 - val_loss: 0.3061 - val_accuracy: 1.0000\n",
            "Epoch 5/30\n",
            "20/20 [==============================] - 0s 5ms/step - loss: 0.2581 - accuracy: 1.0000 - val_loss: 0.2111 - val_accuracy: 1.0000\n",
            "Epoch 6/30\n",
            "20/20 [==============================] - 0s 4ms/step - loss: 0.1806 - accuracy: 1.0000 - val_loss: 0.1454 - val_accuracy: 1.0000\n",
            "Epoch 7/30\n",
            "20/20 [==============================] - 0s 4ms/step - loss: 0.1275 - accuracy: 1.0000 - val_loss: 0.1043 - val_accuracy: 1.0000\n",
            "Epoch 8/30\n",
            "20/20 [==============================] - 0s 4ms/step - loss: 0.0944 - accuracy: 1.0000 - val_loss: 0.0779 - val_accuracy: 1.0000\n",
            "Epoch 9/30\n",
            "20/20 [==============================] - 0s 4ms/step - loss: 0.0708 - accuracy: 1.0000 - val_loss: 0.0592 - val_accuracy: 1.0000\n",
            "Epoch 10/30\n",
            "20/20 [==============================] - 0s 4ms/step - loss: 0.0554 - accuracy: 1.0000 - val_loss: 0.0470 - val_accuracy: 1.0000\n",
            "Epoch 11/30\n",
            "20/20 [==============================] - 0s 5ms/step - loss: 0.0445 - accuracy: 1.0000 - val_loss: 0.0379 - val_accuracy: 1.0000\n",
            "Epoch 12/30\n",
            "20/20 [==============================] - 0s 4ms/step - loss: 0.0365 - accuracy: 1.0000 - val_loss: 0.0313 - val_accuracy: 1.0000\n",
            "Epoch 13/30\n",
            "20/20 [==============================] - 0s 5ms/step - loss: 0.0305 - accuracy: 1.0000 - val_loss: 0.0262 - val_accuracy: 1.0000\n",
            "Epoch 14/30\n",
            "20/20 [==============================] - 0s 4ms/step - loss: 0.0259 - accuracy: 1.0000 - val_loss: 0.0224 - val_accuracy: 1.0000\n",
            "Epoch 15/30\n",
            "20/20 [==============================] - 0s 4ms/step - loss: 0.0223 - accuracy: 1.0000 - val_loss: 0.0193 - val_accuracy: 1.0000\n",
            "Epoch 16/30\n",
            "20/20 [==============================] - 0s 4ms/step - loss: 0.0194 - accuracy: 1.0000 - val_loss: 0.0168 - val_accuracy: 1.0000\n",
            "Epoch 17/30\n",
            "20/20 [==============================] - 0s 5ms/step - loss: 0.0170 - accuracy: 1.0000 - val_loss: 0.0147 - val_accuracy: 1.0000\n",
            "Epoch 18/30\n",
            "20/20 [==============================] - 0s 4ms/step - loss: 0.0151 - accuracy: 1.0000 - val_loss: 0.0130 - val_accuracy: 1.0000\n",
            "Epoch 19/30\n",
            "20/20 [==============================] - 0s 4ms/step - loss: 0.0134 - accuracy: 1.0000 - val_loss: 0.0116 - val_accuracy: 1.0000\n",
            "Epoch 20/30\n",
            "20/20 [==============================] - 0s 5ms/step - loss: 0.0121 - accuracy: 1.0000 - val_loss: 0.0104 - val_accuracy: 1.0000\n",
            "Epoch 21/30\n",
            "20/20 [==============================] - 0s 4ms/step - loss: 0.0109 - accuracy: 1.0000 - val_loss: 0.0094 - val_accuracy: 1.0000\n",
            "Epoch 22/30\n",
            "20/20 [==============================] - 0s 3ms/step - loss: 0.0099 - accuracy: 1.0000 - val_loss: 0.0085 - val_accuracy: 1.0000\n",
            "Epoch 23/30\n",
            "20/20 [==============================] - 0s 4ms/step - loss: 0.0090 - accuracy: 1.0000 - val_loss: 0.0078 - val_accuracy: 1.0000\n",
            "Epoch 24/30\n",
            "20/20 [==============================] - 0s 4ms/step - loss: 0.0083 - accuracy: 1.0000 - val_loss: 0.0072 - val_accuracy: 1.0000\n",
            "Epoch 25/30\n",
            "20/20 [==============================] - 0s 4ms/step - loss: 0.0076 - accuracy: 1.0000 - val_loss: 0.0066 - val_accuracy: 1.0000\n",
            "Epoch 26/30\n",
            "20/20 [==============================] - 0s 4ms/step - loss: 0.0070 - accuracy: 1.0000 - val_loss: 0.0060 - val_accuracy: 1.0000\n",
            "Epoch 27/30\n",
            "20/20 [==============================] - 0s 5ms/step - loss: 0.0065 - accuracy: 1.0000 - val_loss: 0.0056 - val_accuracy: 1.0000\n",
            "Epoch 28/30\n",
            "20/20 [==============================] - 0s 4ms/step - loss: 0.0060 - accuracy: 1.0000 - val_loss: 0.0052 - val_accuracy: 1.0000\n",
            "Epoch 29/30\n",
            "20/20 [==============================] - 0s 4ms/step - loss: 0.0056 - accuracy: 1.0000 - val_loss: 0.0048 - val_accuracy: 1.0000\n",
            "Epoch 30/30\n",
            "20/20 [==============================] - 0s 4ms/step - loss: 0.0052 - accuracy: 1.0000 - val_loss: 0.0045 - val_accuracy: 1.0000\n"
          ]
        },
        {
          "output_type": "execute_result",
          "data": {
            "text/plain": [
              "<keras.callbacks.History at 0x7fe158247fd0>"
            ]
          },
          "metadata": {},
          "execution_count": 1578
        }
      ]
    },
    {
      "cell_type": "code",
      "source": [
        "# Getting the dataframe of loss and accuracies on both training and validation\n",
        "\n",
        "loss_acc_metrics_df = pd.DataFrame(model.history.history)\n",
        "\n",
        "# Plotting the loss and accuracy\n",
        "\n",
        "loss_acc_metrics_df.plot(figsize=(10,5))"
      ],
      "metadata": {
        "colab": {
          "base_uri": "https://localhost:8080/",
          "height": 338
        },
        "id": "Uk-uwfVYY7VK",
        "outputId": "08b95db9-5426-43ce-be6c-e3dbb648d3c1"
      },
      "execution_count": 1579,
      "outputs": [
        {
          "output_type": "execute_result",
          "data": {
            "text/plain": [
              "<matplotlib.axes._subplots.AxesSubplot at 0x7fe152b82310>"
            ]
          },
          "metadata": {},
          "execution_count": 1579
        },
        {
          "output_type": "display_data",
          "data": {
            "text/plain": [
              "<Figure size 720x360 with 1 Axes>"
            ],
            "image/png": "[encoded data removed]"
          },
          "metadata": {
            "needs_background": "light"
          }
        }
      ]
    },
    {
      "cell_type": "code",
      "source": [
        "eval = model.evaluate(X_test_preproc, y_test_preproc)\n",
        "print(eval)\n",
        "#print('Test loss: {}\\nTest accuracy:{}'.format(eval[0],eval[1]))"
      ],
      "metadata": {
        "colab": {
          "base_uri": "https://localhost:8080/"
        },
        "id": "QdYDlhhdZX5X",
        "outputId": "4950571f-6238-49aa-8773-d9051fa89d55"
      },
      "execution_count": 1580,
      "outputs": [
        {
          "output_type": "stream",
          "name": "stdout",
          "text": [
            "2/2 [==============================] - 0s 6ms/step - loss: 0.0049 - accuracy: 1.0000\n",
            "[0.004912033677101135, 1.0]\n"
          ]
        }
      ]
    },
    {
      "cell_type": "markdown",
      "source": [
        "## Check accuracy"
      ],
      "metadata": {
        "id": "Om3zb-o7xYy3"
      }
    },
    {
      "cell_type": "code",
      "source": [
        "import tensorflow as tf\n",
        "# new instances where we do not know the answer\n",
        "color =  np.zeros([100, 10,10, 3], dtype=np.uint8)\n",
        "color[:][:][:] = [30, 0, 0] # Red\n",
        "color_noise = np.random.randint(0, 256, size=(100, 10, 10, 3)).astype(\"int\")\n",
        "color_noise[:][:][:][1] = 0\n",
        "color = color + color_noise\n",
        "# Same pre-proc.\n",
        "color = Rescaling(scale=1.0 / color.max())(color).numpy()\n",
        "\n",
        "# make a prediction\n",
        "predictions = model.predict(color)\n",
        "predictions = tf.round(predictions)\n",
        "color_dict = {2:\"Red\",1:\"Green\",0:\"Blue\"}\n",
        "\n",
        "\n",
        "plt.figure(figsize=(10,10))\n",
        "plt.imshow(color[0])\n",
        "\n",
        "print(\"Color:\")\n",
        "print(color_dict[predictions[0].numpy().argmax()])"
      ],
      "metadata": {
        "colab": {
          "base_uri": "https://localhost:8080/",
          "height": 629
        },
        "id": "Vw7SEhV5xYOG",
        "outputId": "26e0bd4f-fae1-4131-f517-dad26d0b99f2"
      },
      "execution_count": 1593,
      "outputs": [
        {
          "output_type": "stream",
          "name": "stdout",
          "text": [
            "Color:\n",
            "Red\n"
          ]
        },
        {
          "output_type": "display_data",
          "data": {
            "text/plain": [
              "<Figure size 720x720 with 1 Axes>"
            ],
            "image/png": "[encoded data removed]"
          },
          "metadata": {
            "needs_background": "light"
          }
        }
      ]
    },
    {
      "cell_type": "code",
      "source": [
        "#%tensorboard --logdir logs"
      ],
      "metadata": {
        "id": "j6mmWNadXKh_"
      },
      "execution_count": 1582,
      "outputs": []
    }
  ]
}